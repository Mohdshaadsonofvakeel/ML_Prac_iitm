{
  "nbformat": 4,
  "nbformat_minor": 0,
  "metadata": {
    "colab": {
      "provenance": [],
      "toc_visible": true
    },
    "kernelspec": {
      "name": "python3",
      "display_name": "Python 3"
    },
    "language_info": {
      "name": "python"
    }
  },
  "cells": [
    {
      "cell_type": "code",
      "source": [
        "# #scratch\n",
        "# !unzip \"/content/Dataset Versions-20230508T065637Z-001.zip\"\n",
        "# !mv \"/content/Dataset Versions/*\" /content"
      ],
      "metadata": {
        "id": "fCwmwgejJoXL"
      },
      "execution_count": null,
      "outputs": []
    },
    {
      "cell_type": "markdown",
      "source": [
        "#Preamble: Load the dataset and examine it."
      ],
      "metadata": {
        "id": "3eAQMyN6sdX6"
      }
    },
    {
      "cell_type": "markdown",
      "source": [
        "### Notes:\n",
        "\n",
        "* Maximum marks : 60\n",
        "\n",
        "* This exam consists of a **CLASSIFICATION** problem.  \n",
        "\n",
        "* The target is the '**satisfaction**' column.\n",
        "\n",
        "* Random state should be taken as 64 wherever applicable.\n",
        "\n",
        "* For NAT type of question if nothing is mentioned, Enter the answer accurately upto 3 decimal places.\n",
        "\n",
        "* The dataset is already preprocessed, i.e. no missing values and numerical and categorical features are scaled/encoded accordingly."
      ],
      "metadata": {
        "id": "M7s1JoGUtCJn"
      }
    },
    {
      "cell_type": "markdown",
      "source": [
        "###Q1. [marks : 0] Which dataset are you using for this exam?\n",
        "\n",
        "Options:\n",
        "\n",
        "A) V1\n",
        "\n",
        "B) V2\n",
        "\n",
        "C) V3\n",
        "\n",
        "D) V4\n",
        "\n",
        "E) V5\n",
        "\n",
        "\n",
        "Answer:\n",
        "V1: A, V2:B, V3: C, V4:D, V5:E"
      ],
      "metadata": {
        "id": "cElBibpHuJOQ"
      }
    },
    {
      "cell_type": "code",
      "source": [
        "rs = 64\n",
        "\n",
        "import numpy as np\n",
        "import pandas as pd\n",
        "import matplotlib.pyplot as plt\n",
        "import seaborn as sns"
      ],
      "metadata": {
        "id": "Xru3a1CjuJDx"
      },
      "execution_count": null,
      "outputs": []
    },
    {
      "cell_type": "code",
      "source": [
        "from sklearn.model_selection import train_test_split,GridSearchCV,RandomizedSearchCV, KFold\n",
        "\n",
        "# Estimators\n",
        "from sklearn.linear_model import LogisticRegression,Perceptron,SGDClassifier\n",
        "from sklearn.svm import SVC\n",
        "\n",
        "from sklearn.neighbors import KNeighborsClassifier\n",
        "from sklearn.tree import DecisionTreeClassifier\n",
        "from sklearn.ensemble import BaggingClassifier,RandomForestClassifier,GradientBoostingClassifier,AdaBoostClassifier\n",
        "\n",
        "from sklearn.metrics import confusion_matrix\n",
        "from sklearn.model_selection import GridSearchCV\n",
        "\n",
        "# Metrics\n",
        "from sklearn.metrics import accuracy_score,recall_score,f1_score,precision_score\n",
        "from sklearn.metrics import ConfusionMatrixDisplay, classification_report\n"
      ],
      "metadata": {
        "id": "Hp3iRy01pRWn"
      },
      "execution_count": null,
      "outputs": []
    },
    {
      "cell_type": "code",
      "source": [
        "# from google.colab import drive\n",
        "# drive.mount('/content/gdrive/', force_remount=True)"
      ],
      "metadata": {
        "id": "thl35RCjxQUx"
      },
      "execution_count": null,
      "outputs": []
    },
    {
      "cell_type": "code",
      "source": [
        "dataset = 'V5'\n",
        "data = pd.read_csv(f'/content/Dataset Versions/{dataset}.csv')\n",
        "# data = pd.read_csv(f\"/content/gdrive/MyDrive/OPPE2 April 16/Dataset Versions/{dataset}.csv\")"
      ],
      "metadata": {
        "id": "3DCUTxbLuMwV"
      },
      "execution_count": null,
      "outputs": []
    },
    {
      "cell_type": "code",
      "source": [
        "data.head()"
      ],
      "metadata": {
        "colab": {
          "base_uri": "https://localhost:8080/",
          "height": 334
        },
        "id": "bQhS72Fpi35E",
        "outputId": "d6ca5a37-7a1a-4ecb-b23b-8830ab9aba84"
      },
      "execution_count": null,
      "outputs": [
        {
          "output_type": "execute_result",
          "data": {
            "text/plain": [
              "        Age  Flight Distance  Inflight wifi service  \\\n",
              "0  0.384615         0.067315                    1.0   \n",
              "1  0.256410         0.088605                    0.2   \n",
              "2  0.320513         0.107867                    0.2   \n",
              "3  0.384615         0.104015                    0.6   \n",
              "4  0.217949         0.212693                    1.0   \n",
              "\n",
              "   Departure/Arrival time convenient  Ease of Online booking  Gate location  \\\n",
              "0                                1.0                     1.0           1.00   \n",
              "1                                0.6                     0.8           0.75   \n",
              "2                                0.2                     0.2           0.00   \n",
              "3                                0.6                     0.6           0.50   \n",
              "4                                0.0                     1.0           0.00   \n",
              "\n",
              "   Food and drink  Online boarding  Seat comfort  Inflight entertainment  ...  \\\n",
              "0             1.0              1.0           1.0                     1.0  ...   \n",
              "1             0.4              0.8           0.4                     0.4  ...   \n",
              "2             0.8              0.8           0.8                     0.8  ...   \n",
              "3             0.8              0.6           0.8                     0.8  ...   \n",
              "4             0.2              1.0           1.0                     0.2  ...   \n",
              "\n",
              "   Gender_Female  Gender_Male  Customer Type_Loyal Customer  \\\n",
              "0            0.0          1.0                           1.0   \n",
              "1            1.0          0.0                           1.0   \n",
              "2            0.0          1.0                           1.0   \n",
              "3            1.0          0.0                           0.0   \n",
              "4            1.0          0.0                           0.0   \n",
              "\n",
              "   Customer Type_disloyal Customer  Type of Travel_Business travel  \\\n",
              "0                              0.0                             1.0   \n",
              "1                              0.0                             0.0   \n",
              "2                              0.0                             1.0   \n",
              "3                              1.0                             1.0   \n",
              "4                              1.0                             1.0   \n",
              "\n",
              "   Type of Travel_Personal Travel  Class_Business  Class_Eco  Class_Eco Plus  \\\n",
              "0                             0.0             0.0        0.0             1.0   \n",
              "1                             1.0             0.0        1.0             0.0   \n",
              "2                             0.0             1.0        0.0             0.0   \n",
              "3                             0.0             1.0        0.0             0.0   \n",
              "4                             0.0             1.0        0.0             0.0   \n",
              "\n",
              "   satisfaction  \n",
              "0           1.0  \n",
              "1           0.0  \n",
              "2           1.0  \n",
              "3           0.0  \n",
              "4           1.0  \n",
              "\n",
              "[5 rows x 28 columns]"
            ],
            "text/html": [
              "\n",
              "  <div id=\"df-f3760a4a-a728-4d32-bfc9-b519b2f86685\">\n",
              "    <div class=\"colab-df-container\">\n",
              "      <div>\n",
              "<style scoped>\n",
              "    .dataframe tbody tr th:only-of-type {\n",
              "        vertical-align: middle;\n",
              "    }\n",
              "\n",
              "    .dataframe tbody tr th {\n",
              "        vertical-align: top;\n",
              "    }\n",
              "\n",
              "    .dataframe thead th {\n",
              "        text-align: right;\n",
              "    }\n",
              "</style>\n",
              "<table border=\"1\" class=\"dataframe\">\n",
              "  <thead>\n",
              "    <tr style=\"text-align: right;\">\n",
              "      <th></th>\n",
              "      <th>Age</th>\n",
              "      <th>Flight Distance</th>\n",
              "      <th>Inflight wifi service</th>\n",
              "      <th>Departure/Arrival time convenient</th>\n",
              "      <th>Ease of Online booking</th>\n",
              "      <th>Gate location</th>\n",
              "      <th>Food and drink</th>\n",
              "      <th>Online boarding</th>\n",
              "      <th>Seat comfort</th>\n",
              "      <th>Inflight entertainment</th>\n",
              "      <th>...</th>\n",
              "      <th>Gender_Female</th>\n",
              "      <th>Gender_Male</th>\n",
              "      <th>Customer Type_Loyal Customer</th>\n",
              "      <th>Customer Type_disloyal Customer</th>\n",
              "      <th>Type of Travel_Business travel</th>\n",
              "      <th>Type of Travel_Personal Travel</th>\n",
              "      <th>Class_Business</th>\n",
              "      <th>Class_Eco</th>\n",
              "      <th>Class_Eco Plus</th>\n",
              "      <th>satisfaction</th>\n",
              "    </tr>\n",
              "  </thead>\n",
              "  <tbody>\n",
              "    <tr>\n",
              "      <th>0</th>\n",
              "      <td>0.384615</td>\n",
              "      <td>0.067315</td>\n",
              "      <td>1.0</td>\n",
              "      <td>1.0</td>\n",
              "      <td>1.0</td>\n",
              "      <td>1.00</td>\n",
              "      <td>1.0</td>\n",
              "      <td>1.0</td>\n",
              "      <td>1.0</td>\n",
              "      <td>1.0</td>\n",
              "      <td>...</td>\n",
              "      <td>0.0</td>\n",
              "      <td>1.0</td>\n",
              "      <td>1.0</td>\n",
              "      <td>0.0</td>\n",
              "      <td>1.0</td>\n",
              "      <td>0.0</td>\n",
              "      <td>0.0</td>\n",
              "      <td>0.0</td>\n",
              "      <td>1.0</td>\n",
              "      <td>1.0</td>\n",
              "    </tr>\n",
              "    <tr>\n",
              "      <th>1</th>\n",
              "      <td>0.256410</td>\n",
              "      <td>0.088605</td>\n",
              "      <td>0.2</td>\n",
              "      <td>0.6</td>\n",
              "      <td>0.8</td>\n",
              "      <td>0.75</td>\n",
              "      <td>0.4</td>\n",
              "      <td>0.8</td>\n",
              "      <td>0.4</td>\n",
              "      <td>0.4</td>\n",
              "      <td>...</td>\n",
              "      <td>1.0</td>\n",
              "      <td>0.0</td>\n",
              "      <td>1.0</td>\n",
              "      <td>0.0</td>\n",
              "      <td>0.0</td>\n",
              "      <td>1.0</td>\n",
              "      <td>0.0</td>\n",
              "      <td>1.0</td>\n",
              "      <td>0.0</td>\n",
              "      <td>0.0</td>\n",
              "    </tr>\n",
              "    <tr>\n",
              "      <th>2</th>\n",
              "      <td>0.320513</td>\n",
              "      <td>0.107867</td>\n",
              "      <td>0.2</td>\n",
              "      <td>0.2</td>\n",
              "      <td>0.2</td>\n",
              "      <td>0.00</td>\n",
              "      <td>0.8</td>\n",
              "      <td>0.8</td>\n",
              "      <td>0.8</td>\n",
              "      <td>0.8</td>\n",
              "      <td>...</td>\n",
              "      <td>0.0</td>\n",
              "      <td>1.0</td>\n",
              "      <td>1.0</td>\n",
              "      <td>0.0</td>\n",
              "      <td>1.0</td>\n",
              "      <td>0.0</td>\n",
              "      <td>1.0</td>\n",
              "      <td>0.0</td>\n",
              "      <td>0.0</td>\n",
              "      <td>1.0</td>\n",
              "    </tr>\n",
              "    <tr>\n",
              "      <th>3</th>\n",
              "      <td>0.384615</td>\n",
              "      <td>0.104015</td>\n",
              "      <td>0.6</td>\n",
              "      <td>0.6</td>\n",
              "      <td>0.6</td>\n",
              "      <td>0.50</td>\n",
              "      <td>0.8</td>\n",
              "      <td>0.6</td>\n",
              "      <td>0.8</td>\n",
              "      <td>0.8</td>\n",
              "      <td>...</td>\n",
              "      <td>1.0</td>\n",
              "      <td>0.0</td>\n",
              "      <td>0.0</td>\n",
              "      <td>1.0</td>\n",
              "      <td>1.0</td>\n",
              "      <td>0.0</td>\n",
              "      <td>1.0</td>\n",
              "      <td>0.0</td>\n",
              "      <td>0.0</td>\n",
              "      <td>0.0</td>\n",
              "    </tr>\n",
              "    <tr>\n",
              "      <th>4</th>\n",
              "      <td>0.217949</td>\n",
              "      <td>0.212693</td>\n",
              "      <td>1.0</td>\n",
              "      <td>0.0</td>\n",
              "      <td>1.0</td>\n",
              "      <td>0.00</td>\n",
              "      <td>0.2</td>\n",
              "      <td>1.0</td>\n",
              "      <td>1.0</td>\n",
              "      <td>0.2</td>\n",
              "      <td>...</td>\n",
              "      <td>1.0</td>\n",
              "      <td>0.0</td>\n",
              "      <td>0.0</td>\n",
              "      <td>1.0</td>\n",
              "      <td>1.0</td>\n",
              "      <td>0.0</td>\n",
              "      <td>1.0</td>\n",
              "      <td>0.0</td>\n",
              "      <td>0.0</td>\n",
              "      <td>1.0</td>\n",
              "    </tr>\n",
              "  </tbody>\n",
              "</table>\n",
              "<p>5 rows × 28 columns</p>\n",
              "</div>\n",
              "      <button class=\"colab-df-convert\" onclick=\"convertToInteractive('df-f3760a4a-a728-4d32-bfc9-b519b2f86685')\"\n",
              "              title=\"Convert this dataframe to an interactive table.\"\n",
              "              style=\"display:none;\">\n",
              "        \n",
              "  <svg xmlns=\"http://www.w3.org/2000/svg\" height=\"24px\"viewBox=\"0 0 24 24\"\n",
              "       width=\"24px\">\n",
              "    <path d=\"M0 0h24v24H0V0z\" fill=\"none\"/>\n",
              "    <path d=\"M18.56 5.44l.94 2.06.94-2.06 2.06-.94-2.06-.94-.94-2.06-.94 2.06-2.06.94zm-11 1L8.5 8.5l.94-2.06 2.06-.94-2.06-.94L8.5 2.5l-.94 2.06-2.06.94zm10 10l.94 2.06.94-2.06 2.06-.94-2.06-.94-.94-2.06-.94 2.06-2.06.94z\"/><path d=\"M17.41 7.96l-1.37-1.37c-.4-.4-.92-.59-1.43-.59-.52 0-1.04.2-1.43.59L10.3 9.45l-7.72 7.72c-.78.78-.78 2.05 0 2.83L4 21.41c.39.39.9.59 1.41.59.51 0 1.02-.2 1.41-.59l7.78-7.78 2.81-2.81c.8-.78.8-2.07 0-2.86zM5.41 20L4 18.59l7.72-7.72 1.47 1.35L5.41 20z\"/>\n",
              "  </svg>\n",
              "      </button>\n",
              "      \n",
              "  <style>\n",
              "    .colab-df-container {\n",
              "      display:flex;\n",
              "      flex-wrap:wrap;\n",
              "      gap: 12px;\n",
              "    }\n",
              "\n",
              "    .colab-df-convert {\n",
              "      background-color: #E8F0FE;\n",
              "      border: none;\n",
              "      border-radius: 50%;\n",
              "      cursor: pointer;\n",
              "      display: none;\n",
              "      fill: #1967D2;\n",
              "      height: 32px;\n",
              "      padding: 0 0 0 0;\n",
              "      width: 32px;\n",
              "    }\n",
              "\n",
              "    .colab-df-convert:hover {\n",
              "      background-color: #E2EBFA;\n",
              "      box-shadow: 0px 1px 2px rgba(60, 64, 67, 0.3), 0px 1px 3px 1px rgba(60, 64, 67, 0.15);\n",
              "      fill: #174EA6;\n",
              "    }\n",
              "\n",
              "    [theme=dark] .colab-df-convert {\n",
              "      background-color: #3B4455;\n",
              "      fill: #D2E3FC;\n",
              "    }\n",
              "\n",
              "    [theme=dark] .colab-df-convert:hover {\n",
              "      background-color: #434B5C;\n",
              "      box-shadow: 0px 1px 3px 1px rgba(0, 0, 0, 0.15);\n",
              "      filter: drop-shadow(0px 1px 2px rgba(0, 0, 0, 0.3));\n",
              "      fill: #FFFFFF;\n",
              "    }\n",
              "  </style>\n",
              "\n",
              "      <script>\n",
              "        const buttonEl =\n",
              "          document.querySelector('#df-f3760a4a-a728-4d32-bfc9-b519b2f86685 button.colab-df-convert');\n",
              "        buttonEl.style.display =\n",
              "          google.colab.kernel.accessAllowed ? 'block' : 'none';\n",
              "\n",
              "        async function convertToInteractive(key) {\n",
              "          const element = document.querySelector('#df-f3760a4a-a728-4d32-bfc9-b519b2f86685');\n",
              "          const dataTable =\n",
              "            await google.colab.kernel.invokeFunction('convertToInteractive',\n",
              "                                                     [key], {});\n",
              "          if (!dataTable) return;\n",
              "\n",
              "          const docLinkHtml = 'Like what you see? Visit the ' +\n",
              "            '<a target=\"_blank\" href=https://colab.research.google.com/notebooks/data_table.ipynb>data table notebook</a>'\n",
              "            + ' to learn more about interactive tables.';\n",
              "          element.innerHTML = '';\n",
              "          dataTable['output_type'] = 'display_data';\n",
              "          await google.colab.output.renderOutput(dataTable, element);\n",
              "          const docLink = document.createElement('div');\n",
              "          docLink.innerHTML = docLinkHtml;\n",
              "          element.appendChild(docLink);\n",
              "        }\n",
              "      </script>\n",
              "    </div>\n",
              "  </div>\n",
              "  "
            ]
          },
          "metadata": {},
          "execution_count": 72
        }
      ]
    },
    {
      "cell_type": "code",
      "source": [
        "data.info()"
      ],
      "metadata": {
        "colab": {
          "base_uri": "https://localhost:8080/"
        },
        "id": "sDrF8Kkf6UoI",
        "outputId": "26065012-535d-4c68-b978-1175b6ec8b95"
      },
      "execution_count": null,
      "outputs": [
        {
          "output_type": "stream",
          "name": "stdout",
          "text": [
            "<class 'pandas.core.frame.DataFrame'>\n",
            "RangeIndex: 20718 entries, 0 to 20717\n",
            "Data columns (total 28 columns):\n",
            " #   Column                             Non-Null Count  Dtype  \n",
            "---  ------                             --------------  -----  \n",
            " 0   Age                                20718 non-null  float64\n",
            " 1   Flight Distance                    20718 non-null  float64\n",
            " 2   Inflight wifi service              20718 non-null  float64\n",
            " 3   Departure/Arrival time convenient  20718 non-null  float64\n",
            " 4   Ease of Online booking             20718 non-null  float64\n",
            " 5   Gate location                      20718 non-null  float64\n",
            " 6   Food and drink                     20718 non-null  float64\n",
            " 7   Online boarding                    20718 non-null  float64\n",
            " 8   Seat comfort                       20718 non-null  float64\n",
            " 9   Inflight entertainment             20718 non-null  float64\n",
            " 10  On-board service                   20718 non-null  float64\n",
            " 11  Leg room service                   20718 non-null  float64\n",
            " 12  Baggage handling                   20718 non-null  float64\n",
            " 13  Checkin service                    20718 non-null  float64\n",
            " 14  Inflight service                   20718 non-null  float64\n",
            " 15  Cleanliness                        20718 non-null  float64\n",
            " 16  Departure Delay in Minutes         20718 non-null  float64\n",
            " 17  Arrival Delay in Minutes           20718 non-null  float64\n",
            " 18  Gender_Female                      20718 non-null  float64\n",
            " 19  Gender_Male                        20718 non-null  float64\n",
            " 20  Customer Type_Loyal Customer       20718 non-null  float64\n",
            " 21  Customer Type_disloyal Customer    20718 non-null  float64\n",
            " 22  Type of Travel_Business travel     20718 non-null  float64\n",
            " 23  Type of Travel_Personal Travel     20718 non-null  float64\n",
            " 24  Class_Business                     20718 non-null  float64\n",
            " 25  Class_Eco                          20718 non-null  float64\n",
            " 26  Class_Eco Plus                     20718 non-null  float64\n",
            " 27  satisfaction                       20718 non-null  float64\n",
            "dtypes: float64(28)\n",
            "memory usage: 4.4 MB\n"
          ]
        }
      ]
    },
    {
      "cell_type": "markdown",
      "source": [
        "##Q2 [Marks =3] Break the dataset into features(`X`) and label (`y`), where the column `satisfaction` goes to `y` and the rest of the columns go to `X`. How many data points belonging to `satisfaction` value 1 are there in the dataset ? [NAT]\n",
        "\n",
        "Answer:\n",
        "\n",
        "V1: 8916\n",
        "\n",
        "V2: 8969\n",
        "\n",
        "V3: 9001\n",
        "\n",
        "V4: 8899\n",
        "\n",
        "V5: 8958\n"
      ],
      "metadata": {
        "id": "3BbHrq6PWhS1"
      }
    },
    {
      "cell_type": "code",
      "source": [
        "X = data.iloc[:,:-1]\n",
        "y = data.iloc[:,-1]"
      ],
      "metadata": {
        "id": "4Icjsv0hrduO"
      },
      "execution_count": null,
      "outputs": []
    },
    {
      "cell_type": "code",
      "source": [
        "y.value_counts()"
      ],
      "metadata": {
        "colab": {
          "base_uri": "https://localhost:8080/"
        },
        "id": "tJsZtegQXY0I",
        "outputId": "46d8bb01-b6f1-4faa-f071-6aa8d3b330e7"
      },
      "execution_count": null,
      "outputs": [
        {
          "output_type": "execute_result",
          "data": {
            "text/plain": [
              "0.0    11760\n",
              "1.0     8958\n",
              "Name: satisfaction, dtype: int64"
            ]
          },
          "metadata": {},
          "execution_count": 75
        }
      ]
    },
    {
      "cell_type": "markdown",
      "source": [
        "##Q3 [Marks : 3] Split the dataset into train and test dataset into the `80:20` ratio while keeping `random_state =64`. What is the shape of the training label vector(`y_train`) dataset?\n",
        "\n",
        "(A) (20000,)\n",
        "\n",
        "(B) (16574,27)\n",
        "\n",
        "(C) (20024,14)\n",
        "\n",
        "(D) (4522,98)\n",
        "\n",
        "(E) (16574,)\n",
        "\n",
        "\n",
        "Ans: E"
      ],
      "metadata": {
        "id": "Ug66F9irzOwQ"
      }
    },
    {
      "cell_type": "code",
      "source": [
        "X_train, X_test, y_train, y_test = train_test_split(X, y, test_size = 0.2, random_state = 64)\n",
        "\n",
        "# print(X_train.shape)\n",
        "#print(X_test.shape)\n",
        "print(y_train.shape)\n",
        "#print(y_test.shape)"
      ],
      "metadata": {
        "colab": {
          "base_uri": "https://localhost:8080/"
        },
        "id": "jI9e2mRMzjrB",
        "outputId": "fee835dd-b4eb-4743-9b6f-c5f73b509304"
      },
      "execution_count": null,
      "outputs": [
        {
          "output_type": "stream",
          "name": "stdout",
          "text": [
            "(16574,)\n"
          ]
        }
      ]
    },
    {
      "cell_type": "markdown",
      "source": [
        "##Q4 [4 marks][NAT] Take `LogisticRegression` estimator with following parameters for training:\n",
        "  - Use `sag` as solver\n",
        "  - Set random state to be equal to 64\n",
        "  - Tolerance for stopping criteria to be 1e-3\n",
        "  - Maximum number of iterations taken for the solvers to converge to be 100\n",
        "\n",
        "Enter the recall score for the given model using test set(X_test, y_test)\n",
        "\n",
        "\n",
        "V1: 0.843 (Range : 0.83 , 0.86)\n",
        "\n",
        "V2: 0.829 (Range: 0.80 , 0.860)\n",
        "\n",
        "V3: 0.840 (Range: 0.80 , 0.870)\n",
        "  \n",
        "V4: 0.820 (Range: 0.80 , 0.840)  \n",
        "   \n",
        "V5: 0.840 (Range: 0.81 , 0.880)\n"
      ],
      "metadata": {
        "id": "m0KMN432ml9_"
      }
    },
    {
      "cell_type": "code",
      "source": [
        "logistic = LogisticRegression(solver='sag',\n",
        "                              tol=1e-3,\n",
        "                              max_iter=100,\n",
        "                              random_state =64)\n",
        "logistic.fit(X_train, y_train)\n",
        "\n",
        "y_pred = logistic.predict(X_test)\n",
        "\n",
        "recall_score(y_test,y_pred)"
      ],
      "metadata": {
        "colab": {
          "base_uri": "https://localhost:8080/"
        },
        "id": "GoAqmXnhETQc",
        "outputId": "31f3c6ae-a28d-42bd-8922-c542ddbee932"
      },
      "execution_count": null,
      "outputs": [
        {
          "output_type": "execute_result",
          "data": {
            "text/plain": [
              "0.8405390230207749"
            ]
          },
          "metadata": {},
          "execution_count": 77
        }
      ]
    },
    {
      "cell_type": "markdown",
      "source": [
        "\n",
        "# (Instruction for Question 5 and 6)\n",
        "\n",
        "Instantiate a perceptron classifier with following parameters:-\n",
        "\n",
        "-  Fit the intercept\n",
        "-  Put warm start to be False\n",
        "-  random_state=64\n",
        "\n"
      ],
      "metadata": {
        "id": "WRC2sg1SZxVc"
      }
    },
    {
      "cell_type": "markdown",
      "source": [
        "## Q5[Marks : 4][NAT] Fit this perceptron model with the training dataset and write the accuracy for the test data.\n",
        "\n",
        "V1: 0.842 (range: 0.82,0.86)\n",
        "\n",
        "V2: 0.821 (range: 0.80, 0.845)\n",
        "\n",
        "V3: 0.842 (range: 0.82,0.86)\n",
        "\n",
        "V4: 0.845 (range: 0.82, 0.87)\n",
        "\n",
        "V5: 0.856 (range: 0.835, 0.88)"
      ],
      "metadata": {
        "id": "OmNFPz1dGvtm"
      }
    },
    {
      "cell_type": "code",
      "source": [
        "clf = Perceptron(random_state=64,fit_intercept=True, warm_start=False)\n",
        "clf.fit(X_train,y_train)\n",
        "\n",
        "y_pred = clf.predict(X_test)\n",
        "accuracy_score(y_test,y_pred)"
      ],
      "metadata": {
        "id": "i4Ac5URWxmxK",
        "colab": {
          "base_uri": "https://localhost:8080/"
        },
        "outputId": "b361d630-5abc-460b-d8cb-2094e668e407"
      },
      "execution_count": null,
      "outputs": [
        {
          "output_type": "execute_result",
          "data": {
            "text/plain": [
              "0.8566602316602316"
            ]
          },
          "metadata": {},
          "execution_count": 78
        }
      ]
    },
    {
      "cell_type": "markdown",
      "source": [
        "## Q6[Marks : 4]  [NAT] What is the value of bias (intercept) for the perceptron model you got (upto 1 decimal point) ?\n",
        "\n",
        "\n",
        "Ans:\n",
        "\n",
        "V1: -10.0\n",
        "\n",
        "V2: -12.0\n",
        "\n",
        "V3: -10.0\n",
        "\n",
        "V4: -11.0\n",
        "\n",
        "V5: -10.0\n"
      ],
      "metadata": {
        "id": "GPtv1U6zjvon"
      }
    },
    {
      "cell_type": "code",
      "source": [
        "clf.intercept_"
      ],
      "metadata": {
        "colab": {
          "base_uri": "https://localhost:8080/"
        },
        "id": "2MfggEk11NC4",
        "outputId": "60a5a17c-9b18-49c4-bc6e-dfb3350347ae"
      },
      "execution_count": null,
      "outputs": [
        {
          "output_type": "execute_result",
          "data": {
            "text/plain": [
              "array([-10.])"
            ]
          },
          "metadata": {},
          "execution_count": 79
        }
      ]
    },
    {
      "cell_type": "markdown",
      "source": [
        "##Q 7  [6 marks] [NAT] Use  `SGDClassifier` on the training dataset (`X_train` and `y_train`) to train the model. Use the following parameters:\n",
        "\n",
        "1. `log_loss`is the loss function to be used\n",
        "2. apply ridge regularization,\n",
        "3. maximum number of passes over the training data is 10\n",
        "4. constant learning rate of 0.01,\n",
        "5. regularization rate value is 0.001,\n",
        "6. Take random_state=64.\n",
        "7. Set warm_start as False\n",
        "\n",
        "Note : Please ignore the convergence warning.\n",
        "\n",
        "Using above model, calculate and write the correct value of f1_score for the test set.\n",
        "\n",
        "Ans:\n",
        "\n",
        "V1. 0.861 (Range: 0.850, 0.870)\n",
        "\n",
        "V2: 0.845 (Range: 0.835, 0.855)\n",
        "\n",
        "V3: 0.853 (Range: 0.810, 0.880)\n",
        "\n",
        "V4: 0.832 (Range: 0.82, 0.840)\n",
        "\n",
        "V5: 0.852 (Range: 0.840, 0.860)\n",
        "\n",
        "#### New ranges\n",
        "\n",
        "V1. 0.861 (Range: 0.850, 0.950)\n",
        "\n",
        "V2: 0.845 (Range: 0.835, 0.94)\n",
        "\n",
        "V3: 0.853 (Range: 0.810, 0.95)\n",
        "\n",
        "V4: 0.832 (Range: 0.82, 0.94)\n",
        "\n",
        "V5: 0.852 (Range: 0.840, 0.94)"
      ],
      "metadata": {
        "id": "Y4b1-X_oiJme"
      }
    },
    {
      "cell_type": "code",
      "source": [
        "logistic_sgd = SGDClassifier(loss='log_loss',\n",
        "                        penalty='l2',\n",
        "                        max_iter=10,\n",
        "                        warm_start=False,\n",
        "                        eta0=0.01,\n",
        "                        alpha=0.001,\n",
        "                        learning_rate='constant',\n",
        "                        random_state=64)\n",
        "\n",
        "logistic_sgd.fit(X_train,y_train)"
      ],
      "metadata": {
        "colab": {
          "base_uri": "https://localhost:8080/",
          "height": 147
        },
        "id": "lloVl_LIii7Q",
        "outputId": "5c92ac80-695a-43e9-cab7-e4635aeb657c"
      },
      "execution_count": null,
      "outputs": [
        {
          "output_type": "stream",
          "name": "stderr",
          "text": [
            "/usr/local/lib/python3.10/dist-packages/sklearn/linear_model/_stochastic_gradient.py:702: ConvergenceWarning: Maximum number of iteration reached before convergence. Consider increasing max_iter to improve the fit.\n",
            "  warnings.warn(\n"
          ]
        },
        {
          "output_type": "execute_result",
          "data": {
            "text/plain": [
              "SGDClassifier(alpha=0.001, eta0=0.01, learning_rate='constant', loss='log_loss',\n",
              "              max_iter=10, random_state=64)"
            ],
            "text/html": [
              "<style>#sk-container-id-5 {color: black;background-color: white;}#sk-container-id-5 pre{padding: 0;}#sk-container-id-5 div.sk-toggleable {background-color: white;}#sk-container-id-5 label.sk-toggleable__label {cursor: pointer;display: block;width: 100%;margin-bottom: 0;padding: 0.3em;box-sizing: border-box;text-align: center;}#sk-container-id-5 label.sk-toggleable__label-arrow:before {content: \"▸\";float: left;margin-right: 0.25em;color: #696969;}#sk-container-id-5 label.sk-toggleable__label-arrow:hover:before {color: black;}#sk-container-id-5 div.sk-estimator:hover label.sk-toggleable__label-arrow:before {color: black;}#sk-container-id-5 div.sk-toggleable__content {max-height: 0;max-width: 0;overflow: hidden;text-align: left;background-color: #f0f8ff;}#sk-container-id-5 div.sk-toggleable__content pre {margin: 0.2em;color: black;border-radius: 0.25em;background-color: #f0f8ff;}#sk-container-id-5 input.sk-toggleable__control:checked~div.sk-toggleable__content {max-height: 200px;max-width: 100%;overflow: auto;}#sk-container-id-5 input.sk-toggleable__control:checked~label.sk-toggleable__label-arrow:before {content: \"▾\";}#sk-container-id-5 div.sk-estimator input.sk-toggleable__control:checked~label.sk-toggleable__label {background-color: #d4ebff;}#sk-container-id-5 div.sk-label input.sk-toggleable__control:checked~label.sk-toggleable__label {background-color: #d4ebff;}#sk-container-id-5 input.sk-hidden--visually {border: 0;clip: rect(1px 1px 1px 1px);clip: rect(1px, 1px, 1px, 1px);height: 1px;margin: -1px;overflow: hidden;padding: 0;position: absolute;width: 1px;}#sk-container-id-5 div.sk-estimator {font-family: monospace;background-color: #f0f8ff;border: 1px dotted black;border-radius: 0.25em;box-sizing: border-box;margin-bottom: 0.5em;}#sk-container-id-5 div.sk-estimator:hover {background-color: #d4ebff;}#sk-container-id-5 div.sk-parallel-item::after {content: \"\";width: 100%;border-bottom: 1px solid gray;flex-grow: 1;}#sk-container-id-5 div.sk-label:hover label.sk-toggleable__label {background-color: #d4ebff;}#sk-container-id-5 div.sk-serial::before {content: \"\";position: absolute;border-left: 1px solid gray;box-sizing: border-box;top: 0;bottom: 0;left: 50%;z-index: 0;}#sk-container-id-5 div.sk-serial {display: flex;flex-direction: column;align-items: center;background-color: white;padding-right: 0.2em;padding-left: 0.2em;position: relative;}#sk-container-id-5 div.sk-item {position: relative;z-index: 1;}#sk-container-id-5 div.sk-parallel {display: flex;align-items: stretch;justify-content: center;background-color: white;position: relative;}#sk-container-id-5 div.sk-item::before, #sk-container-id-5 div.sk-parallel-item::before {content: \"\";position: absolute;border-left: 1px solid gray;box-sizing: border-box;top: 0;bottom: 0;left: 50%;z-index: -1;}#sk-container-id-5 div.sk-parallel-item {display: flex;flex-direction: column;z-index: 1;position: relative;background-color: white;}#sk-container-id-5 div.sk-parallel-item:first-child::after {align-self: flex-end;width: 50%;}#sk-container-id-5 div.sk-parallel-item:last-child::after {align-self: flex-start;width: 50%;}#sk-container-id-5 div.sk-parallel-item:only-child::after {width: 0;}#sk-container-id-5 div.sk-dashed-wrapped {border: 1px dashed gray;margin: 0 0.4em 0.5em 0.4em;box-sizing: border-box;padding-bottom: 0.4em;background-color: white;}#sk-container-id-5 div.sk-label label {font-family: monospace;font-weight: bold;display: inline-block;line-height: 1.2em;}#sk-container-id-5 div.sk-label-container {text-align: center;}#sk-container-id-5 div.sk-container {/* jupyter's `normalize.less` sets `[hidden] { display: none; }` but bootstrap.min.css set `[hidden] { display: none !important; }` so we also need the `!important` here to be able to override the default hidden behavior on the sphinx rendered scikit-learn.org. See: https://github.com/scikit-learn/scikit-learn/issues/21755 */display: inline-block !important;position: relative;}#sk-container-id-5 div.sk-text-repr-fallback {display: none;}</style><div id=\"sk-container-id-5\" class=\"sk-top-container\"><div class=\"sk-text-repr-fallback\"><pre>SGDClassifier(alpha=0.001, eta0=0.01, learning_rate=&#x27;constant&#x27;, loss=&#x27;log_loss&#x27;,\n",
              "              max_iter=10, random_state=64)</pre><b>In a Jupyter environment, please rerun this cell to show the HTML representation or trust the notebook. <br />On GitHub, the HTML representation is unable to render, please try loading this page with nbviewer.org.</b></div><div class=\"sk-container\" hidden><div class=\"sk-item\"><div class=\"sk-estimator sk-toggleable\"><input class=\"sk-toggleable__control sk-hidden--visually\" id=\"sk-estimator-id-5\" type=\"checkbox\" checked><label for=\"sk-estimator-id-5\" class=\"sk-toggleable__label sk-toggleable__label-arrow\">SGDClassifier</label><div class=\"sk-toggleable__content\"><pre>SGDClassifier(alpha=0.001, eta0=0.01, learning_rate=&#x27;constant&#x27;, loss=&#x27;log_loss&#x27;,\n",
              "              max_iter=10, random_state=64)</pre></div></div></div></div></div>"
            ]
          },
          "metadata": {},
          "execution_count": 80
        }
      ]
    },
    {
      "cell_type": "code",
      "source": [
        "f1_score(y_test,  logistic_sgd.predict(X_test))"
      ],
      "metadata": {
        "colab": {
          "base_uri": "https://localhost:8080/"
        },
        "id": "2l-vH1LnHOYn",
        "outputId": "2569e575-275c-4ffd-9235-c582e54410b5"
      },
      "execution_count": null,
      "outputs": [
        {
          "output_type": "execute_result",
          "data": {
            "text/plain": [
              "0.8528916339135317"
            ]
          },
          "metadata": {},
          "execution_count": 81
        }
      ]
    },
    {
      "cell_type": "code",
      "source": [
        "from sklearn.metrics import classification_report\n",
        "print(classification_report(y_test, logistic_sgd.predict(X_test)))"
      ],
      "metadata": {
        "id": "0DJk04FRDJ3q",
        "colab": {
          "base_uri": "https://localhost:8080/"
        },
        "outputId": "ba853f2e-34ae-4e50-ba7a-a5e2c3f56d10"
      },
      "execution_count": null,
      "outputs": [
        {
          "output_type": "stream",
          "name": "stdout",
          "text": [
            "              precision    recall  f1-score   support\n",
            "\n",
            "         0.0       0.89      0.89      0.89      2363\n",
            "         1.0       0.85      0.85      0.85      1781\n",
            "\n",
            "    accuracy                           0.87      4144\n",
            "   macro avg       0.87      0.87      0.87      4144\n",
            "weighted avg       0.87      0.87      0.87      4144\n",
            "\n"
          ]
        }
      ]
    },
    {
      "cell_type": "markdown",
      "source": [
        "\n",
        "\n",
        "## Q8. [4 marks] [MCQ] Use Gridsearchcv with KNeighborsClassifier estimator, accuracy as scoring parameter, cv= 5. Consider [1,3,7,11] as K values to be examined.\n",
        "* Consider following parameters for KNeighborsClassifier:\n",
        "\n",
        " - Take metric as 'minkowski',\n",
        " - Set P value as 2\n",
        "\n",
        "- Keep other parameter values as default values.\n",
        "\n",
        "What is the best value of K you obtained using the above instructions?\n",
        "\n",
        "Options\n",
        "\n",
        "A) 1\n",
        "\n",
        "B) 3\n",
        "\n",
        "C) 7\n",
        "\n",
        "D) 11\n",
        "\n",
        "Ans:\n",
        "\n",
        "V1: C\n",
        "\n",
        "V2: D\n",
        "\n",
        "V3: C\n",
        "\n",
        "V4: C\n",
        "\n",
        "V5: C"
      ],
      "metadata": {
        "id": "QaTPHd3sm4Gc"
      }
    },
    {
      "cell_type": "code",
      "source": [
        "knn_clf = KNeighborsClassifier(metric = 'minkowski', p = 2)\n",
        "\n",
        "gs_cv = GridSearchCV(knn_clf,\n",
        "                  param_grid= {'n_neighbors':[1,3,7,11]},\n",
        "                  scoring='accuracy',\n",
        "                  cv=5)\n",
        "\n",
        "gs_cv.fit(X_train,y_train)\n",
        "gs_cv.best_params_"
      ],
      "metadata": {
        "id": "7r7IRQhxm_cz",
        "colab": {
          "base_uri": "https://localhost:8080/"
        },
        "outputId": "1c485d56-9310-4610-8217-0d8f74f5d85f"
      },
      "execution_count": null,
      "outputs": [
        {
          "output_type": "execute_result",
          "data": {
            "text/plain": [
              "{'n_neighbors': 7}"
            ]
          },
          "metadata": {},
          "execution_count": 83
        }
      ]
    },
    {
      "cell_type": "markdown",
      "source": [
        "# **(Common Instructions for Q9 to Q12)**\n",
        "\n",
        "Take DecisionTreeClassifier(random_state = 64) estimator with GridSearchCV. Hyperparameter tuning to be done over the following parameters:\n",
        "\n",
        "- Criterion as 'entropy' or 'gini'\n",
        "\n",
        "- Splitter as 'random' or 'best'\n",
        "\n",
        "- Minimum number of samples per leaf as [2,4,6,8,10]\n",
        "\n",
        "- Maximum depth as [3,4,5,6]\n",
        "\n",
        "- Use cross validation = 4\n",
        "\n",
        "\n",
        "Use the best model from above hyper parameter turing process to answer following questions:"
      ],
      "metadata": {
        "id": "OIX_UE34XRnf"
      }
    },
    {
      "cell_type": "markdown",
      "source": [
        "## Q9. [Marks: 4][NAT] Enter the value of the precision on the test set using the best model:\n",
        "\n",
        " Answer:\n",
        "\n",
        "V1: 0.905 (Range : 0.89 ,0.93)\n",
        "\n",
        "V2: 0.907 (Range: 0.89, 0.93)\n",
        "\n",
        "V3: 0.928 (Range: 0.89, 0.94)\n",
        "  \n",
        "V4: 0.928 (Range: 0.89, 0.94)  \n",
        "   \n",
        "V5: 0.887  (Range: 0.840, 0.920)"
      ],
      "metadata": {
        "id": "AUvgHJmlFD4f"
      }
    },
    {
      "cell_type": "code",
      "source": [
        "\n",
        "dt_clf = DecisionTreeClassifier(random_state = 64)\n",
        "\n",
        "params = {'criterion':['gini','entropy'],\n",
        "          'splitter':['best','random'],\n",
        "          'min_samples_leaf': [2,4,6,8,10],\n",
        "          'max_depth':[3,4,5,6]}\n",
        "\n",
        "# t=KFold(n_splits = 4, random_state = 64)\n",
        "gscv = GridSearchCV(dt_clf,\n",
        "                    params,\n",
        "                    cv= 4,)\n",
        "\n",
        "gscv.fit(X_train, y_train)"
      ],
      "metadata": {
        "id": "MveHy5iK9DdK",
        "colab": {
          "base_uri": "https://localhost:8080/",
          "height": 118
        },
        "outputId": "dce4b536-3273-48a3-977a-242bfe8090b0"
      },
      "execution_count": null,
      "outputs": [
        {
          "output_type": "execute_result",
          "data": {
            "text/plain": [
              "GridSearchCV(cv=4, estimator=DecisionTreeClassifier(random_state=64),\n",
              "             param_grid={'criterion': ['gini', 'entropy'],\n",
              "                         'max_depth': [3, 4, 5, 6],\n",
              "                         'min_samples_leaf': [2, 4, 6, 8, 10],\n",
              "                         'splitter': ['best', 'random']})"
            ],
            "text/html": [
              "<style>#sk-container-id-6 {color: black;background-color: white;}#sk-container-id-6 pre{padding: 0;}#sk-container-id-6 div.sk-toggleable {background-color: white;}#sk-container-id-6 label.sk-toggleable__label {cursor: pointer;display: block;width: 100%;margin-bottom: 0;padding: 0.3em;box-sizing: border-box;text-align: center;}#sk-container-id-6 label.sk-toggleable__label-arrow:before {content: \"▸\";float: left;margin-right: 0.25em;color: #696969;}#sk-container-id-6 label.sk-toggleable__label-arrow:hover:before {color: black;}#sk-container-id-6 div.sk-estimator:hover label.sk-toggleable__label-arrow:before {color: black;}#sk-container-id-6 div.sk-toggleable__content {max-height: 0;max-width: 0;overflow: hidden;text-align: left;background-color: #f0f8ff;}#sk-container-id-6 div.sk-toggleable__content pre {margin: 0.2em;color: black;border-radius: 0.25em;background-color: #f0f8ff;}#sk-container-id-6 input.sk-toggleable__control:checked~div.sk-toggleable__content {max-height: 200px;max-width: 100%;overflow: auto;}#sk-container-id-6 input.sk-toggleable__control:checked~label.sk-toggleable__label-arrow:before {content: \"▾\";}#sk-container-id-6 div.sk-estimator input.sk-toggleable__control:checked~label.sk-toggleable__label {background-color: #d4ebff;}#sk-container-id-6 div.sk-label input.sk-toggleable__control:checked~label.sk-toggleable__label {background-color: #d4ebff;}#sk-container-id-6 input.sk-hidden--visually {border: 0;clip: rect(1px 1px 1px 1px);clip: rect(1px, 1px, 1px, 1px);height: 1px;margin: -1px;overflow: hidden;padding: 0;position: absolute;width: 1px;}#sk-container-id-6 div.sk-estimator {font-family: monospace;background-color: #f0f8ff;border: 1px dotted black;border-radius: 0.25em;box-sizing: border-box;margin-bottom: 0.5em;}#sk-container-id-6 div.sk-estimator:hover {background-color: #d4ebff;}#sk-container-id-6 div.sk-parallel-item::after {content: \"\";width: 100%;border-bottom: 1px solid gray;flex-grow: 1;}#sk-container-id-6 div.sk-label:hover label.sk-toggleable__label {background-color: #d4ebff;}#sk-container-id-6 div.sk-serial::before {content: \"\";position: absolute;border-left: 1px solid gray;box-sizing: border-box;top: 0;bottom: 0;left: 50%;z-index: 0;}#sk-container-id-6 div.sk-serial {display: flex;flex-direction: column;align-items: center;background-color: white;padding-right: 0.2em;padding-left: 0.2em;position: relative;}#sk-container-id-6 div.sk-item {position: relative;z-index: 1;}#sk-container-id-6 div.sk-parallel {display: flex;align-items: stretch;justify-content: center;background-color: white;position: relative;}#sk-container-id-6 div.sk-item::before, #sk-container-id-6 div.sk-parallel-item::before {content: \"\";position: absolute;border-left: 1px solid gray;box-sizing: border-box;top: 0;bottom: 0;left: 50%;z-index: -1;}#sk-container-id-6 div.sk-parallel-item {display: flex;flex-direction: column;z-index: 1;position: relative;background-color: white;}#sk-container-id-6 div.sk-parallel-item:first-child::after {align-self: flex-end;width: 50%;}#sk-container-id-6 div.sk-parallel-item:last-child::after {align-self: flex-start;width: 50%;}#sk-container-id-6 div.sk-parallel-item:only-child::after {width: 0;}#sk-container-id-6 div.sk-dashed-wrapped {border: 1px dashed gray;margin: 0 0.4em 0.5em 0.4em;box-sizing: border-box;padding-bottom: 0.4em;background-color: white;}#sk-container-id-6 div.sk-label label {font-family: monospace;font-weight: bold;display: inline-block;line-height: 1.2em;}#sk-container-id-6 div.sk-label-container {text-align: center;}#sk-container-id-6 div.sk-container {/* jupyter's `normalize.less` sets `[hidden] { display: none; }` but bootstrap.min.css set `[hidden] { display: none !important; }` so we also need the `!important` here to be able to override the default hidden behavior on the sphinx rendered scikit-learn.org. See: https://github.com/scikit-learn/scikit-learn/issues/21755 */display: inline-block !important;position: relative;}#sk-container-id-6 div.sk-text-repr-fallback {display: none;}</style><div id=\"sk-container-id-6\" class=\"sk-top-container\"><div class=\"sk-text-repr-fallback\"><pre>GridSearchCV(cv=4, estimator=DecisionTreeClassifier(random_state=64),\n",
              "             param_grid={&#x27;criterion&#x27;: [&#x27;gini&#x27;, &#x27;entropy&#x27;],\n",
              "                         &#x27;max_depth&#x27;: [3, 4, 5, 6],\n",
              "                         &#x27;min_samples_leaf&#x27;: [2, 4, 6, 8, 10],\n",
              "                         &#x27;splitter&#x27;: [&#x27;best&#x27;, &#x27;random&#x27;]})</pre><b>In a Jupyter environment, please rerun this cell to show the HTML representation or trust the notebook. <br />On GitHub, the HTML representation is unable to render, please try loading this page with nbviewer.org.</b></div><div class=\"sk-container\" hidden><div class=\"sk-item sk-dashed-wrapped\"><div class=\"sk-label-container\"><div class=\"sk-label sk-toggleable\"><input class=\"sk-toggleable__control sk-hidden--visually\" id=\"sk-estimator-id-6\" type=\"checkbox\" ><label for=\"sk-estimator-id-6\" class=\"sk-toggleable__label sk-toggleable__label-arrow\">GridSearchCV</label><div class=\"sk-toggleable__content\"><pre>GridSearchCV(cv=4, estimator=DecisionTreeClassifier(random_state=64),\n",
              "             param_grid={&#x27;criterion&#x27;: [&#x27;gini&#x27;, &#x27;entropy&#x27;],\n",
              "                         &#x27;max_depth&#x27;: [3, 4, 5, 6],\n",
              "                         &#x27;min_samples_leaf&#x27;: [2, 4, 6, 8, 10],\n",
              "                         &#x27;splitter&#x27;: [&#x27;best&#x27;, &#x27;random&#x27;]})</pre></div></div></div><div class=\"sk-parallel\"><div class=\"sk-parallel-item\"><div class=\"sk-item\"><div class=\"sk-label-container\"><div class=\"sk-label sk-toggleable\"><input class=\"sk-toggleable__control sk-hidden--visually\" id=\"sk-estimator-id-7\" type=\"checkbox\" ><label for=\"sk-estimator-id-7\" class=\"sk-toggleable__label sk-toggleable__label-arrow\">estimator: DecisionTreeClassifier</label><div class=\"sk-toggleable__content\"><pre>DecisionTreeClassifier(random_state=64)</pre></div></div></div><div class=\"sk-serial\"><div class=\"sk-item\"><div class=\"sk-estimator sk-toggleable\"><input class=\"sk-toggleable__control sk-hidden--visually\" id=\"sk-estimator-id-8\" type=\"checkbox\" ><label for=\"sk-estimator-id-8\" class=\"sk-toggleable__label sk-toggleable__label-arrow\">DecisionTreeClassifier</label><div class=\"sk-toggleable__content\"><pre>DecisionTreeClassifier(random_state=64)</pre></div></div></div></div></div></div></div></div></div></div>"
            ]
          },
          "metadata": {},
          "execution_count": 84
        }
      ]
    },
    {
      "cell_type": "code",
      "source": [
        "y_pred = gscv.best_estimator_.predict(X_test)\n",
        "precision_score(y_test,y_pred)"
      ],
      "metadata": {
        "id": "NTgO7uxc9CNp",
        "colab": {
          "base_uri": "https://localhost:8080/"
        },
        "outputId": "e7025406-3003-41bc-cb68-13b2a7fb2d5b"
      },
      "execution_count": null,
      "outputs": [
        {
          "output_type": "execute_result",
          "data": {
            "text/plain": [
              "0.8877495952509444"
            ]
          },
          "metadata": {},
          "execution_count": 85
        }
      ]
    },
    {
      "cell_type": "code",
      "source": [
        "gscv.best_estimator_"
      ],
      "metadata": {
        "colab": {
          "base_uri": "https://localhost:8080/",
          "height": 75
        },
        "id": "xEsuxZfN2EJx",
        "outputId": "63b46e05-655f-4604-db8d-1ef28ac19beb"
      },
      "execution_count": null,
      "outputs": [
        {
          "output_type": "execute_result",
          "data": {
            "text/plain": [
              "DecisionTreeClassifier(max_depth=6, min_samples_leaf=2, random_state=64)"
            ],
            "text/html": [
              "<style>#sk-container-id-7 {color: black;background-color: white;}#sk-container-id-7 pre{padding: 0;}#sk-container-id-7 div.sk-toggleable {background-color: white;}#sk-container-id-7 label.sk-toggleable__label {cursor: pointer;display: block;width: 100%;margin-bottom: 0;padding: 0.3em;box-sizing: border-box;text-align: center;}#sk-container-id-7 label.sk-toggleable__label-arrow:before {content: \"▸\";float: left;margin-right: 0.25em;color: #696969;}#sk-container-id-7 label.sk-toggleable__label-arrow:hover:before {color: black;}#sk-container-id-7 div.sk-estimator:hover label.sk-toggleable__label-arrow:before {color: black;}#sk-container-id-7 div.sk-toggleable__content {max-height: 0;max-width: 0;overflow: hidden;text-align: left;background-color: #f0f8ff;}#sk-container-id-7 div.sk-toggleable__content pre {margin: 0.2em;color: black;border-radius: 0.25em;background-color: #f0f8ff;}#sk-container-id-7 input.sk-toggleable__control:checked~div.sk-toggleable__content {max-height: 200px;max-width: 100%;overflow: auto;}#sk-container-id-7 input.sk-toggleable__control:checked~label.sk-toggleable__label-arrow:before {content: \"▾\";}#sk-container-id-7 div.sk-estimator input.sk-toggleable__control:checked~label.sk-toggleable__label {background-color: #d4ebff;}#sk-container-id-7 div.sk-label input.sk-toggleable__control:checked~label.sk-toggleable__label {background-color: #d4ebff;}#sk-container-id-7 input.sk-hidden--visually {border: 0;clip: rect(1px 1px 1px 1px);clip: rect(1px, 1px, 1px, 1px);height: 1px;margin: -1px;overflow: hidden;padding: 0;position: absolute;width: 1px;}#sk-container-id-7 div.sk-estimator {font-family: monospace;background-color: #f0f8ff;border: 1px dotted black;border-radius: 0.25em;box-sizing: border-box;margin-bottom: 0.5em;}#sk-container-id-7 div.sk-estimator:hover {background-color: #d4ebff;}#sk-container-id-7 div.sk-parallel-item::after {content: \"\";width: 100%;border-bottom: 1px solid gray;flex-grow: 1;}#sk-container-id-7 div.sk-label:hover label.sk-toggleable__label {background-color: #d4ebff;}#sk-container-id-7 div.sk-serial::before {content: \"\";position: absolute;border-left: 1px solid gray;box-sizing: border-box;top: 0;bottom: 0;left: 50%;z-index: 0;}#sk-container-id-7 div.sk-serial {display: flex;flex-direction: column;align-items: center;background-color: white;padding-right: 0.2em;padding-left: 0.2em;position: relative;}#sk-container-id-7 div.sk-item {position: relative;z-index: 1;}#sk-container-id-7 div.sk-parallel {display: flex;align-items: stretch;justify-content: center;background-color: white;position: relative;}#sk-container-id-7 div.sk-item::before, #sk-container-id-7 div.sk-parallel-item::before {content: \"\";position: absolute;border-left: 1px solid gray;box-sizing: border-box;top: 0;bottom: 0;left: 50%;z-index: -1;}#sk-container-id-7 div.sk-parallel-item {display: flex;flex-direction: column;z-index: 1;position: relative;background-color: white;}#sk-container-id-7 div.sk-parallel-item:first-child::after {align-self: flex-end;width: 50%;}#sk-container-id-7 div.sk-parallel-item:last-child::after {align-self: flex-start;width: 50%;}#sk-container-id-7 div.sk-parallel-item:only-child::after {width: 0;}#sk-container-id-7 div.sk-dashed-wrapped {border: 1px dashed gray;margin: 0 0.4em 0.5em 0.4em;box-sizing: border-box;padding-bottom: 0.4em;background-color: white;}#sk-container-id-7 div.sk-label label {font-family: monospace;font-weight: bold;display: inline-block;line-height: 1.2em;}#sk-container-id-7 div.sk-label-container {text-align: center;}#sk-container-id-7 div.sk-container {/* jupyter's `normalize.less` sets `[hidden] { display: none; }` but bootstrap.min.css set `[hidden] { display: none !important; }` so we also need the `!important` here to be able to override the default hidden behavior on the sphinx rendered scikit-learn.org. See: https://github.com/scikit-learn/scikit-learn/issues/21755 */display: inline-block !important;position: relative;}#sk-container-id-7 div.sk-text-repr-fallback {display: none;}</style><div id=\"sk-container-id-7\" class=\"sk-top-container\"><div class=\"sk-text-repr-fallback\"><pre>DecisionTreeClassifier(max_depth=6, min_samples_leaf=2, random_state=64)</pre><b>In a Jupyter environment, please rerun this cell to show the HTML representation or trust the notebook. <br />On GitHub, the HTML representation is unable to render, please try loading this page with nbviewer.org.</b></div><div class=\"sk-container\" hidden><div class=\"sk-item\"><div class=\"sk-estimator sk-toggleable\"><input class=\"sk-toggleable__control sk-hidden--visually\" id=\"sk-estimator-id-9\" type=\"checkbox\" checked><label for=\"sk-estimator-id-9\" class=\"sk-toggleable__label sk-toggleable__label-arrow\">DecisionTreeClassifier</label><div class=\"sk-toggleable__content\"><pre>DecisionTreeClassifier(max_depth=6, min_samples_leaf=2, random_state=64)</pre></div></div></div></div></div>"
            ]
          },
          "metadata": {},
          "execution_count": 86
        }
      ]
    },
    {
      "cell_type": "code",
      "source": [
        "gscv.best_params_"
      ],
      "metadata": {
        "colab": {
          "base_uri": "https://localhost:8080/"
        },
        "id": "vJGGtY_PQlBe",
        "outputId": "cc40b129-bf68-4547-a7d4-f5bf877999a7"
      },
      "execution_count": null,
      "outputs": [
        {
          "output_type": "execute_result",
          "data": {
            "text/plain": [
              "{'criterion': 'gini',\n",
              " 'max_depth': 6,\n",
              " 'min_samples_leaf': 2,\n",
              " 'splitter': 'best'}"
            ]
          },
          "metadata": {},
          "execution_count": 87
        }
      ]
    },
    {
      "cell_type": "markdown",
      "source": [
        "## Q10:[Marks: 4] [MCQ] Enter the value of max_depth of the best estimator you got after training with GridSearchCV.\n",
        "\n",
        "A) 3\n",
        "\n",
        "B) 4\n",
        "\n",
        "C) 5\n",
        "\n",
        "D) 6\n",
        "\n",
        "Answer: D (all versions)\n",
        "\n",
        "\n"
      ],
      "metadata": {
        "id": "KQ4INLyktENk"
      }
    },
    {
      "cell_type": "code",
      "source": [
        "gscv.best_params_['max_depth']"
      ],
      "metadata": {
        "colab": {
          "base_uri": "https://localhost:8080/"
        },
        "id": "AKe_i9iHFP2f",
        "outputId": "3b4f1f90-4a7b-42fd-c817-075aadaa75eb"
      },
      "execution_count": null,
      "outputs": [
        {
          "output_type": "execute_result",
          "data": {
            "text/plain": [
              "6"
            ]
          },
          "metadata": {},
          "execution_count": 88
        }
      ]
    },
    {
      "cell_type": "markdown",
      "source": [
        "## Q11[Marks: 4 ][NAT] Enter the value of min_samples_leaf of the best estimator after training with GridSearchCV.\n",
        "\n",
        "A) 2\n",
        "\n",
        "B) 4\n",
        "\n",
        "C) 6\n",
        "\n",
        "D) 8\n",
        "\n",
        "E) 10\n",
        "\n",
        "\n",
        "Answer:\n",
        "\n",
        "V1: A\n",
        "\n",
        "V2: C\n",
        "\n",
        "V3: D\n",
        "  \n",
        "V4: E\n",
        "   \n",
        "V5: A"
      ],
      "metadata": {
        "id": "CWnx2wKyvBbl"
      }
    },
    {
      "cell_type": "code",
      "source": [
        "gscv.best_params_['min_samples_leaf']"
      ],
      "metadata": {
        "colab": {
          "base_uri": "https://localhost:8080/"
        },
        "id": "d_zu6LyWFVJF",
        "outputId": "cc90eb60-fcf1-4bed-c984-d549f35534c7"
      },
      "execution_count": null,
      "outputs": [
        {
          "output_type": "execute_result",
          "data": {
            "text/plain": [
              "2"
            ]
          },
          "metadata": {},
          "execution_count": 89
        }
      ]
    },
    {
      "cell_type": "markdown",
      "source": [
        "## Q12[Marks : 4] [NAT]  What is the number of nodes in the optimal tree?\n",
        "\n",
        "Answer:\n",
        "\n",
        "V1: 79\n",
        "\n",
        "V2: 83\n",
        "\n",
        "V3: 85\n",
        "  \n",
        "V4: 107   \n",
        "   \n",
        "V5: 81"
      ],
      "metadata": {
        "id": "2hcEQWAKu5lA"
      }
    },
    {
      "cell_type": "code",
      "source": [
        "gscv.best_estimator_.tree_.node_count\n"
      ],
      "metadata": {
        "id": "dZE2n0CdrjMk",
        "colab": {
          "base_uri": "https://localhost:8080/"
        },
        "outputId": "c9a5a106-6eba-4307-c059-03d8c5f0144d"
      },
      "execution_count": null,
      "outputs": [
        {
          "output_type": "execute_result",
          "data": {
            "text/plain": [
              "81"
            ]
          },
          "metadata": {},
          "execution_count": 90
        }
      ]
    },
    {
      "cell_type": "markdown",
      "source": [
        "## Q13. [Marks: 4 ][MCQ] Take RandomForestClassifier (random state to be 64) with GridSearchCV to tune the number of decision trees with the training set. The number of trees in forest can range from 5 to 10 (both inclusive). Mark the number of decision trees in the best estimator provided by the grid search.\n",
        "\n",
        "A. 5\n",
        "\n",
        "B. 6\n",
        "\n",
        "C. 7\n",
        "\n",
        "D. 8\n",
        "\n",
        "E. 9\n",
        "\n",
        "F. 10\n",
        "\n",
        "Answer:\n",
        "\n",
        "V1: E\n",
        "\n",
        "V2: F\n",
        "\n",
        "V3: F\n",
        "\n",
        "V4: F\n",
        "\n",
        "V5: F"
      ],
      "metadata": {
        "id": "QvDQHv_0nM6_"
      }
    },
    {
      "cell_type": "code",
      "source": [
        "n_estimators = range(5,11)\n",
        "\n",
        "param_grid = {\"n_estimators\":n_estimators}\n",
        "\n",
        "rf_gs = GridSearchCV(RandomForestClassifier(random_state = 64),\n",
        "                     param_grid = param_grid)\n",
        "rf_gs.fit(X_train,y_train)\n",
        "\n",
        "rf_gs.best_params_"
      ],
      "metadata": {
        "colab": {
          "base_uri": "https://localhost:8080/"
        },
        "id": "K9kXMAYGnSpd",
        "outputId": "60ffd16b-2272-4075-bea8-49ff0a3a4637"
      },
      "execution_count": null,
      "outputs": [
        {
          "output_type": "execute_result",
          "data": {
            "text/plain": [
              "{'n_estimators': 10}"
            ]
          },
          "metadata": {},
          "execution_count": 91
        }
      ]
    },
    {
      "cell_type": "markdown",
      "source": [
        "# **(Common Instructions for Q14,Q15)**\n",
        "##Take an adaboost model with following hyperparameter values and tune it using GridsearchCV.\n",
        "\n",
        "- Use n_estimators as [10,20,30]\n",
        "- random_state = 64\n",
        "- Use learning_rate as [0.5,1,2]\n",
        "- Take cv value= 5\n",
        "\n",
        "\n"
      ],
      "metadata": {
        "id": "lROzOhbLv_cs"
      }
    },
    {
      "cell_type": "markdown",
      "source": [
        "## Q14[Marks: 3] [NAT] Train the 'model' using above instructions and use the best estimator to calculate the total number of misclassified samples for the test data and submit the value.\n",
        "\n",
        "Answer:\n",
        "\n",
        "V1: 322   (Range: 318,325)\n",
        "\n",
        "V2: 326  (Range: 322,330)\n",
        "\n",
        "V3: 286  (Range: 282, 291)\n",
        "  \n",
        "V4: 310  (Range: 305,315)  \n",
        "   \n",
        "V5: 330  (Range: 325, 335)"
      ],
      "metadata": {
        "id": "jtTEFTxaE5E-"
      }
    },
    {
      "cell_type": "code",
      "source": [
        "\n",
        "params = {'n_estimators':[10,20,30],\n",
        "          'learning_rate':[0.5,1,2]}\n",
        "adc = AdaBoostClassifier(random_state = 64)\n",
        "gscv_ab = GridSearchCV(adc,\n",
        "                       params,\n",
        "                       cv=5)\n",
        "\n",
        "gscv_ab.fit(X_train, y_train)"
      ],
      "metadata": {
        "id": "GNWjfprxId-2",
        "colab": {
          "base_uri": "https://localhost:8080/",
          "height": 118
        },
        "outputId": "290752b5-d0e6-4a76-9a21-74d4be031e04"
      },
      "execution_count": null,
      "outputs": [
        {
          "output_type": "execute_result",
          "data": {
            "text/plain": [
              "GridSearchCV(cv=5, estimator=AdaBoostClassifier(random_state=64),\n",
              "             param_grid={'learning_rate': [0.5, 1, 2],\n",
              "                         'n_estimators': [10, 20, 30]})"
            ],
            "text/html": [
              "<style>#sk-container-id-8 {color: black;background-color: white;}#sk-container-id-8 pre{padding: 0;}#sk-container-id-8 div.sk-toggleable {background-color: white;}#sk-container-id-8 label.sk-toggleable__label {cursor: pointer;display: block;width: 100%;margin-bottom: 0;padding: 0.3em;box-sizing: border-box;text-align: center;}#sk-container-id-8 label.sk-toggleable__label-arrow:before {content: \"▸\";float: left;margin-right: 0.25em;color: #696969;}#sk-container-id-8 label.sk-toggleable__label-arrow:hover:before {color: black;}#sk-container-id-8 div.sk-estimator:hover label.sk-toggleable__label-arrow:before {color: black;}#sk-container-id-8 div.sk-toggleable__content {max-height: 0;max-width: 0;overflow: hidden;text-align: left;background-color: #f0f8ff;}#sk-container-id-8 div.sk-toggleable__content pre {margin: 0.2em;color: black;border-radius: 0.25em;background-color: #f0f8ff;}#sk-container-id-8 input.sk-toggleable__control:checked~div.sk-toggleable__content {max-height: 200px;max-width: 100%;overflow: auto;}#sk-container-id-8 input.sk-toggleable__control:checked~label.sk-toggleable__label-arrow:before {content: \"▾\";}#sk-container-id-8 div.sk-estimator input.sk-toggleable__control:checked~label.sk-toggleable__label {background-color: #d4ebff;}#sk-container-id-8 div.sk-label input.sk-toggleable__control:checked~label.sk-toggleable__label {background-color: #d4ebff;}#sk-container-id-8 input.sk-hidden--visually {border: 0;clip: rect(1px 1px 1px 1px);clip: rect(1px, 1px, 1px, 1px);height: 1px;margin: -1px;overflow: hidden;padding: 0;position: absolute;width: 1px;}#sk-container-id-8 div.sk-estimator {font-family: monospace;background-color: #f0f8ff;border: 1px dotted black;border-radius: 0.25em;box-sizing: border-box;margin-bottom: 0.5em;}#sk-container-id-8 div.sk-estimator:hover {background-color: #d4ebff;}#sk-container-id-8 div.sk-parallel-item::after {content: \"\";width: 100%;border-bottom: 1px solid gray;flex-grow: 1;}#sk-container-id-8 div.sk-label:hover label.sk-toggleable__label {background-color: #d4ebff;}#sk-container-id-8 div.sk-serial::before {content: \"\";position: absolute;border-left: 1px solid gray;box-sizing: border-box;top: 0;bottom: 0;left: 50%;z-index: 0;}#sk-container-id-8 div.sk-serial {display: flex;flex-direction: column;align-items: center;background-color: white;padding-right: 0.2em;padding-left: 0.2em;position: relative;}#sk-container-id-8 div.sk-item {position: relative;z-index: 1;}#sk-container-id-8 div.sk-parallel {display: flex;align-items: stretch;justify-content: center;background-color: white;position: relative;}#sk-container-id-8 div.sk-item::before, #sk-container-id-8 div.sk-parallel-item::before {content: \"\";position: absolute;border-left: 1px solid gray;box-sizing: border-box;top: 0;bottom: 0;left: 50%;z-index: -1;}#sk-container-id-8 div.sk-parallel-item {display: flex;flex-direction: column;z-index: 1;position: relative;background-color: white;}#sk-container-id-8 div.sk-parallel-item:first-child::after {align-self: flex-end;width: 50%;}#sk-container-id-8 div.sk-parallel-item:last-child::after {align-self: flex-start;width: 50%;}#sk-container-id-8 div.sk-parallel-item:only-child::after {width: 0;}#sk-container-id-8 div.sk-dashed-wrapped {border: 1px dashed gray;margin: 0 0.4em 0.5em 0.4em;box-sizing: border-box;padding-bottom: 0.4em;background-color: white;}#sk-container-id-8 div.sk-label label {font-family: monospace;font-weight: bold;display: inline-block;line-height: 1.2em;}#sk-container-id-8 div.sk-label-container {text-align: center;}#sk-container-id-8 div.sk-container {/* jupyter's `normalize.less` sets `[hidden] { display: none; }` but bootstrap.min.css set `[hidden] { display: none !important; }` so we also need the `!important` here to be able to override the default hidden behavior on the sphinx rendered scikit-learn.org. See: https://github.com/scikit-learn/scikit-learn/issues/21755 */display: inline-block !important;position: relative;}#sk-container-id-8 div.sk-text-repr-fallback {display: none;}</style><div id=\"sk-container-id-8\" class=\"sk-top-container\"><div class=\"sk-text-repr-fallback\"><pre>GridSearchCV(cv=5, estimator=AdaBoostClassifier(random_state=64),\n",
              "             param_grid={&#x27;learning_rate&#x27;: [0.5, 1, 2],\n",
              "                         &#x27;n_estimators&#x27;: [10, 20, 30]})</pre><b>In a Jupyter environment, please rerun this cell to show the HTML representation or trust the notebook. <br />On GitHub, the HTML representation is unable to render, please try loading this page with nbviewer.org.</b></div><div class=\"sk-container\" hidden><div class=\"sk-item sk-dashed-wrapped\"><div class=\"sk-label-container\"><div class=\"sk-label sk-toggleable\"><input class=\"sk-toggleable__control sk-hidden--visually\" id=\"sk-estimator-id-10\" type=\"checkbox\" ><label for=\"sk-estimator-id-10\" class=\"sk-toggleable__label sk-toggleable__label-arrow\">GridSearchCV</label><div class=\"sk-toggleable__content\"><pre>GridSearchCV(cv=5, estimator=AdaBoostClassifier(random_state=64),\n",
              "             param_grid={&#x27;learning_rate&#x27;: [0.5, 1, 2],\n",
              "                         &#x27;n_estimators&#x27;: [10, 20, 30]})</pre></div></div></div><div class=\"sk-parallel\"><div class=\"sk-parallel-item\"><div class=\"sk-item\"><div class=\"sk-label-container\"><div class=\"sk-label sk-toggleable\"><input class=\"sk-toggleable__control sk-hidden--visually\" id=\"sk-estimator-id-11\" type=\"checkbox\" ><label for=\"sk-estimator-id-11\" class=\"sk-toggleable__label sk-toggleable__label-arrow\">estimator: AdaBoostClassifier</label><div class=\"sk-toggleable__content\"><pre>AdaBoostClassifier(random_state=64)</pre></div></div></div><div class=\"sk-serial\"><div class=\"sk-item\"><div class=\"sk-estimator sk-toggleable\"><input class=\"sk-toggleable__control sk-hidden--visually\" id=\"sk-estimator-id-12\" type=\"checkbox\" ><label for=\"sk-estimator-id-12\" class=\"sk-toggleable__label sk-toggleable__label-arrow\">AdaBoostClassifier</label><div class=\"sk-toggleable__content\"><pre>AdaBoostClassifier(random_state=64)</pre></div></div></div></div></div></div></div></div></div></div>"
            ]
          },
          "metadata": {},
          "execution_count": 92
        }
      ]
    },
    {
      "cell_type": "code",
      "source": [
        "cm = confusion_matrix(y_test, gscv_ab.best_estimator_.predict(X_test))\n",
        "cm[0][1] + cm[1][0]"
      ],
      "metadata": {
        "colab": {
          "base_uri": "https://localhost:8080/"
        },
        "id": "oz0Fv9fm5HKZ",
        "outputId": "dd9b4e16-9a20-41aa-b84b-9ec0ac476ae8"
      },
      "execution_count": null,
      "outputs": [
        {
          "output_type": "execute_result",
          "data": {
            "text/plain": [
              "330"
            ]
          },
          "metadata": {},
          "execution_count": 93
        }
      ]
    },
    {
      "cell_type": "code",
      "source": [
        "ConfusionMatrixDisplay.from_estimator(gscv_ab.best_estimator_, X_test,y_test)"
      ],
      "metadata": {
        "colab": {
          "base_uri": "https://localhost:8080/",
          "height": 466
        },
        "id": "htskEY9N4WPg",
        "outputId": "436e7655-9889-4ad9-b11d-3cea896f27fb"
      },
      "execution_count": null,
      "outputs": [
        {
          "output_type": "execute_result",
          "data": {
            "text/plain": [
              "<sklearn.metrics._plot.confusion_matrix.ConfusionMatrixDisplay at 0x7f07f912bc10>"
            ]
          },
          "metadata": {},
          "execution_count": 94
        },
        {
          "output_type": "display_data",
          "data": {
            "text/plain": [
              "<Figure size 640x480 with 2 Axes>"
            ],
            "image/png": "[encoded data removed]"
          },
          "metadata": {}
        }
      ]
    },
    {
      "cell_type": "markdown",
      "source": [
        "## Q15[Marks: 3] Mark  the value of `n_estimators` of the best model after training with GridSearchCV. [MCQ]\n",
        "\n",
        "Options:\n",
        "\n",
        "A) 10\n",
        "\n",
        "B) 20\n",
        "\n",
        "C) 30\n",
        "\n",
        "D) None of these\n",
        "\n",
        "Answer: C (all versions)"
      ],
      "metadata": {
        "id": "NWS4UWsXwVEn"
      }
    },
    {
      "cell_type": "code",
      "source": [
        "gscv_ab.best_params_"
      ],
      "metadata": {
        "colab": {
          "base_uri": "https://localhost:8080/"
        },
        "id": "aNnWC9AmRh3X",
        "outputId": "238db000-b4ba-45b4-b9cf-e687ea31fb8a"
      },
      "execution_count": null,
      "outputs": [
        {
          "output_type": "execute_result",
          "data": {
            "text/plain": [
              "{'learning_rate': 0.5, 'n_estimators': 30}"
            ]
          },
          "metadata": {},
          "execution_count": 95
        }
      ]
    },
    {
      "cell_type": "markdown",
      "source": [
        "## Q16 [6 marks] Apply `GridSearchCV` using the support vector machine (SVM) classifier on the training dataset `X_train, y_train` and calculate the best value of `C` and `kernel` from the values below.\n",
        "\n",
        "####use below hyperparameter values to tune the mode\n",
        "* `kernel':['linear', 'rbf'],\n",
        "* 'C':[1, 10]`)\n",
        "\n",
        "Which of the following options represent the best parameters?\n",
        "\n",
        "options:\n",
        "\n",
        "A. {'C': 1, 'kernel': 'rbf'}\n",
        "\n",
        "B. {'C': 10, 'kernel': 'rbf'}\n",
        "\n",
        "C. {'C':  1, 'kernel': 'linear'}\n",
        "\n",
        "D. {'C': 10, 'kernel': 'linear'}\n",
        "\n",
        "\n",
        "Answer: B\n"
      ],
      "metadata": {
        "id": "3KgzhGgEmscK"
      }
    },
    {
      "cell_type": "code",
      "source": [
        "param_grid = {'kernel':('linear', 'rbf'), 'C':[1, 10]}\n",
        "\n",
        "svc = SVC(random_state=64)\n",
        "\n",
        "gs = GridSearchCV(svc, param_grid)\n",
        "\n",
        "gs.fit(X_train, y_train)\n",
        "\n",
        "gs.best_params_"
      ],
      "metadata": {
        "id": "fdhF2Yommzji",
        "colab": {
          "base_uri": "https://localhost:8080/"
        },
        "outputId": "3aff2dcd-92d2-40f0-ff25-17b42c898a7a"
      },
      "execution_count": null,
      "outputs": [
        {
          "output_type": "execute_result",
          "data": {
            "text/plain": [
              "{'C': 10, 'kernel': 'rbf'}"
            ]
          },
          "metadata": {},
          "execution_count": 96
        }
      ]
    }
  ]
}